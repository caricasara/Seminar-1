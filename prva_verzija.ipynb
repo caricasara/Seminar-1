{
  "nbformat": 4,
  "nbformat_minor": 0,
  "metadata": {
    "colab": {
      "provenance": []
    },
    "kernelspec": {
      "name": "python3",
      "display_name": "Python 3"
    },
    "language_info": {
      "name": "python"
    }
  },
  "cells": [
    {
      "cell_type": "markdown",
      "source": [
        "# Seminar 1"
      ],
      "metadata": {
        "id": "Zik05p5c0PFb"
      }
    },
    {
      "cell_type": "markdown",
      "source": [
        "Uz pomoć .fna datoteke iz kraken baze gradim svoju vlastitu. Kako bi to napravila morala sam svaku sekvencu odvojiti u zaseban file. Nakon pisanja python skripte dobila sam 2187 datoteka sastavljenih od 75 različitih taxid-eva. Za pokretanje skani alata dodatno sam nasumično subsamplala readove, s broja 2588006 na 10000. Konačno, dobivene rezultate spremila sam u 'skani_results_file.tsv'. Također, provela sam i klasifikaciju s krakenom, a izlaz sam postavila u 'kraken_output.tsv' datoteku."
      ],
      "metadata": {
        "id": "Oc2Zy4Kh0V87"
      }
    },
    {
      "cell_type": "markdown",
      "source": [
        "### Evaluacija"
      ],
      "metadata": {
        "id": "vnw5DP8pEast"
      }
    },
    {
      "cell_type": "code",
      "execution_count": 182,
      "metadata": {
        "id": "qyGR8ktZhYho"
      },
      "outputs": [],
      "source": [
        "import matplotlib.pyplot as plt\n",
        "import pandas as pd"
      ]
    },
    {
      "cell_type": "code",
      "source": [
        "putanja_do_skani_datoteke = 'skani_results_file.tsv'\n",
        "df = pd.read_csv(putanja_do_skani_datoteke, sep='\\t')"
      ],
      "metadata": {
        "id": "qxJ910jGhjRG"
      },
      "execution_count": 183,
      "outputs": []
    },
    {
      "cell_type": "code",
      "source": [
        "odabrani_stupci = ['Align_fraction_query', 'Ref_name', 'Query_name','Query_file']\n",
        "df_odabrani = df[odabrani_stupci]\n",
        "tablica = list(df_odabrani.iloc)\n",
        "pom = 0\n",
        "rjecnik = {}\n",
        "for i in tablica:\n",
        "  ref_name = i[0].split('|')[0]\n",
        "  ref_taxid = i[0].split(' ')[0].split('|')[-1]\n",
        "  query_id = i[1].split(',')[0].split(' ')[0]\n",
        "  query_name = i[1].split(',')[0].split(' ')[-1]\n",
        "  query_speciesid = i[2].split('|')[3]\n",
        "  ani_score = i[-1]\n",
        "  if query_speciesid != ref_taxid:\n",
        "    pom += 1\n",
        "  if (ref_name, ref_taxid) in rjecnik:\n",
        "    ubaci = [ani_score, query_speciesid, query_name, query_id]\n",
        "    rjecnik[(ref_name, ref_taxid)].append(ubaci)\n",
        "  else:\n",
        "    ubaci = [ani_score, query_speciesid, query_name, query_id]\n",
        "    rjecnik[(ref_name, ref_taxid)] = [ubaci]\n",
        "print(f'Učitanih rezultata ima {len(tablica)}!')\n",
        "print(f'Postoji {pom} redova s različito određenim taxid-evima. ({round((pom/len(tablica))*100,2)}%)')"
      ],
      "metadata": {
        "colab": {
          "base_uri": "https://localhost:8080/"
        },
        "id": "X15hkD0V_ctr",
        "outputId": "72d83df0-20d9-43a6-e05c-1ba00fada421"
      },
      "execution_count": 184,
      "outputs": [
        {
          "output_type": "stream",
          "name": "stdout",
          "text": [
            "Učitanih rezultata ima 76389!\n",
            "Postoji 3882 redova s različito određenim taxid-evima. (5.08%)\n"
          ]
        }
      ]
    },
    {
      "cell_type": "code",
      "source": [
        "novi = {}\n",
        "for k,v in rjecnik.items():\n",
        "  rjecnik[k] = sorted(v, key=lambda x: x[0], reverse=True)\n",
        "  novi[k] = rjecnik[k][0]\n",
        "print(f'Daljnjom analizom primjećujem da se ispisani retci odnose na {len(list(rjecnik.items()))} početnih .fna datoteka, tj. za njih {2187-len(list(rjecnik.items()))} vrijedi da je ANI-score manji od 80%')"
      ],
      "metadata": {
        "colab": {
          "base_uri": "https://localhost:8080/"
        },
        "id": "-TqfegIGLysz",
        "outputId": "4afe2d6b-f312-4805-91d3-18dec7c8944f"
      },
      "execution_count": 185,
      "outputs": [
        {
          "output_type": "stream",
          "name": "stdout",
          "text": [
            "Daljnjom analizom primjećujem da se ispisani retci odnose na 2129 početnih .fna datoteka, tj. za njih 58 vrijedi da je ANI-score manji od 80%\n"
          ]
        }
      ]
    },
    {
      "cell_type": "markdown",
      "source": [
        "Fali zapis za:\n",
        "\n",
        "*   1 datoteku s taxid-om 1352\n",
        "*   55 datoteka s taxid-om 1491\n",
        "*   2 datoteke s taxid-om 28132\n",
        "\n"
      ],
      "metadata": {
        "id": "gp-_GxH5NSD3"
      }
    },
    {
      "cell_type": "code",
      "source": [
        "putanja_do_kraken_datoteke = 'kraken_output.tsv'\n",
        "df = pd.read_csv(putanja_do_kraken_datoteke, sep='\\t')"
      ],
      "metadata": {
        "id": "oWSAREbKo8GT"
      },
      "execution_count": 186,
      "outputs": []
    },
    {
      "cell_type": "code",
      "source": [
        "neklasificirani = []\n",
        "klasificirani = {}\n",
        "\n",
        "with open(putanja_do_kraken_datoteke, 'r') as file:\n",
        "  for red in file:\n",
        "    podaci = red.split('\\t')\n",
        "    if podaci[0] == 'U':\n",
        "      neklasificirani.append(podaci[1])\n",
        "    elif podaci[0] == 'C':\n",
        "      klasificirani[podaci[1]] = podaci[2].split(')')[0].split(' ')[-1]\n",
        "\n",
        "print(f'Od ukupno 10000 sekvenci, njih {len(klasificirani)} se uspješno klasificiralo, dok je {len(neklasificirani)} ostalo neklasificirano.')"
      ],
      "metadata": {
        "colab": {
          "base_uri": "https://localhost:8080/"
        },
        "id": "GNMBCsx7oupr",
        "outputId": "210e06b9-9aef-40eb-b1c2-033834527ab5"
      },
      "execution_count": 187,
      "outputs": [
        {
          "output_type": "stream",
          "name": "stdout",
          "text": [
            "Od ukupno 10000 sekvenci, njih 8283 se uspješno klasificiralo, dok je 1717 ostalo neklasificirano.\n"
          ]
        }
      ]
    },
    {
      "cell_type": "code",
      "source": [
        "vrijednosti = [len(klasificirani)/100, len(neklasificirani)/100]\n",
        "indeksi = ['Klasificirani', 'Neklasificirani']\n",
        "plt.bar(indeksi, vrijednosti, color=['green', 'red'])\n",
        "plt.xlabel('Oznaka')\n",
        "plt.ylabel('%')\n",
        "plt.title('Stupčasti grafikon')\n",
        "plt.show()"
      ],
      "metadata": {
        "colab": {
          "base_uri": "https://localhost:8080/",
          "height": 472
        },
        "id": "ZDTi1dJPFM_A",
        "outputId": "f497a5ff-2bf7-4990-87e5-714c70ab8dd3"
      },
      "execution_count": 188,
      "outputs": [
        {
          "output_type": "display_data",
          "data": {
            "text/plain": [
              "<Figure size 640x480 with 1 Axes>"
            ],
            "image/png": "[encoded data removed]"
          },
          "metadata": {}
        }
      ]
    },
    {
      "cell_type": "code",
      "source": [
        "TP = 0\n",
        "FP = 0\n",
        "for k,v in novi.items():\n",
        "  if k[1] != v[1]:\n",
        "    if v[3] in klasificirani:\n",
        "      if klasificirani[v[3]] == k[1]:\n",
        "        FP += 1\n",
        "      elif klasificirani[v[3]] == v[1]:\n",
        "        TP += 1\n",
        "      else:\n",
        "        FP += 1\n",
        "  else:\n",
        "    if v[3] in klasificirani:\n",
        "      if klasificirani[v[3]] == v[1]:\n",
        "        TP += 1\n",
        "      else:\n",
        "        FP += 1\n",
        "print(f'TP: {TP}')\n",
        "print(f'FP: {FP}')"
      ],
      "metadata": {
        "colab": {
          "base_uri": "https://localhost:8080/"
        },
        "id": "n3HzY0-c8H_g",
        "outputId": "04e16f1b-89b3-4bba-e42e-d5a559d83094"
      },
      "execution_count": 190,
      "outputs": [
        {
          "output_type": "stream",
          "name": "stdout",
          "text": [
            "TP: 2113\n",
            "FP: 16\n"
          ]
        }
      ]
    }
  ]
}
